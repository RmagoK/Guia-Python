{
 "cells": [
  {
   "cell_type": "code",
   "execution_count": null,
   "metadata": {},
   "outputs": [
    {
     "data": {
      "text/plain": [
       "      name    lastname   age\n",
       "0   Nombre    Apellido  Edad\n",
       "1  Rosheed        Mago    23\n",
       "2    Maria  Emperatriz    24\n",
       "3   Carlos     Maxstar    23\n"
      ]
     },
     "metadata": {},
     "output_type": "display_data"
    }
   ],
   "source": [
    "import pandas as pd\n",
    "\n",
    "#Usando la funcion read para leer el archivo csv\n",
    "\n",
    "df = pd.read_csv(\"Guia-Python-Level-Semi-Avanzado.py/archivoss/prueba.csv\",names=[\"name\",\"lastname\",\"age\"])\n",
    "nombre = df[\"name\"]\n",
    "\n",
    "print(df)"
   ]
  }
 ],
 "metadata": {
  "language_info": {
   "name": "python"
  }
 },
 "nbformat": 4,
 "nbformat_minor": 2
}
